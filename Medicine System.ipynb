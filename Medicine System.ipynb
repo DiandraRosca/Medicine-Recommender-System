{
 "cells": [
  {
   "cell_type": "code",
   "execution_count": 38,
   "id": "9c1aca54-43a7-4f80-a60c-f4b8cb7e1bdf",
   "metadata": {},
   "outputs": [],
   "source": [
    "import pandas as pd\n",
    "import numpy as np\n",
    "     "
   ]
  },
  {
   "cell_type": "code",
   "execution_count": 39,
   "id": "784279d4-ec30-4f3e-aa1b-f344f74ece3d",
   "metadata": {},
   "outputs": [],
   "source": [
    "data = pd.read_csv(\"medicine.csv\")"
   ]
  },
  {
   "cell_type": "code",
   "execution_count": 40,
   "id": "d649fa60-3993-40a3-b7c6-7c73336d2f03",
   "metadata": {},
   "outputs": [
    {
     "data": {
      "text/html": [
       "<div>\n",
       "<style scoped>\n",
       "    .dataframe tbody tr th:only-of-type {\n",
       "        vertical-align: middle;\n",
       "    }\n",
       "\n",
       "    .dataframe tbody tr th {\n",
       "        vertical-align: top;\n",
       "    }\n",
       "\n",
       "    .dataframe thead th {\n",
       "        text-align: right;\n",
       "    }\n",
       "</style>\n",
       "<table border=\"1\" class=\"dataframe\">\n",
       "  <thead>\n",
       "    <tr style=\"text-align: right;\">\n",
       "      <th></th>\n",
       "      <th>index</th>\n",
       "      <th>Drug_Name</th>\n",
       "      <th>Reason</th>\n",
       "      <th>Description</th>\n",
       "    </tr>\n",
       "  </thead>\n",
       "  <tbody>\n",
       "    <tr>\n",
       "      <th>0</th>\n",
       "      <td>1</td>\n",
       "      <td>A CN Gel(Topical) 20gmA CN Soap 75gm</td>\n",
       "      <td>Acne</td>\n",
       "      <td>Mild to moderate acne (spots)</td>\n",
       "    </tr>\n",
       "    <tr>\n",
       "      <th>1</th>\n",
       "      <td>2</td>\n",
       "      <td>A Ret 0.05% Gel 20gmA Ret 0.1% Gel 20gmA Ret 0...</td>\n",
       "      <td>Acne</td>\n",
       "      <td>A RET 0.025% is a prescription medicine that i...</td>\n",
       "    </tr>\n",
       "    <tr>\n",
       "      <th>2</th>\n",
       "      <td>3</td>\n",
       "      <td>ACGEL CL NANO Gel 15gm</td>\n",
       "      <td>Acne</td>\n",
       "      <td>It is used to treat acne vulgaris in people 12...</td>\n",
       "    </tr>\n",
       "    <tr>\n",
       "      <th>3</th>\n",
       "      <td>4</td>\n",
       "      <td>ACGEL NANO Gel 15gm</td>\n",
       "      <td>Acne</td>\n",
       "      <td>It is used to treat acne vulgaris in people 12...</td>\n",
       "    </tr>\n",
       "    <tr>\n",
       "      <th>4</th>\n",
       "      <td>5</td>\n",
       "      <td>Acleen 1% Lotion 25ml</td>\n",
       "      <td>Acne</td>\n",
       "      <td>treat the most severe form of acne (nodular ac...</td>\n",
       "    </tr>\n",
       "  </tbody>\n",
       "</table>\n",
       "</div>"
      ],
      "text/plain": [
       "   index                                          Drug_Name Reason  \\\n",
       "0      1               A CN Gel(Topical) 20gmA CN Soap 75gm   Acne   \n",
       "1      2  A Ret 0.05% Gel 20gmA Ret 0.1% Gel 20gmA Ret 0...   Acne   \n",
       "2      3                             ACGEL CL NANO Gel 15gm   Acne   \n",
       "3      4                                ACGEL NANO Gel 15gm   Acne   \n",
       "4      5                              Acleen 1% Lotion 25ml   Acne   \n",
       "\n",
       "                                         Description  \n",
       "0                      Mild to moderate acne (spots)  \n",
       "1  A RET 0.025% is a prescription medicine that i...  \n",
       "2  It is used to treat acne vulgaris in people 12...  \n",
       "3  It is used to treat acne vulgaris in people 12...  \n",
       "4  treat the most severe form of acne (nodular ac...  "
      ]
     },
     "execution_count": 40,
     "metadata": {},
     "output_type": "execute_result"
    }
   ],
   "source": [
    "data.head()\n"
   ]
  },
  {
   "cell_type": "code",
   "execution_count": 41,
   "id": "2584b8ba-1c92-44e0-869c-0e58eaf8efa2",
   "metadata": {},
   "outputs": [
    {
     "data": {
      "text/plain": [
       "(9720, 4)"
      ]
     },
     "execution_count": 41,
     "metadata": {},
     "output_type": "execute_result"
    }
   ],
   "source": [
    "data.shape "
   ]
  },
  {
   "cell_type": "code",
   "execution_count": 42,
   "id": "ac3178f2-4e85-4270-b7fa-985e609ce76f",
   "metadata": {},
   "outputs": [
    {
     "data": {
      "text/plain": [
       "index          0\n",
       "Drug_Name      0\n",
       "Reason         0\n",
       "Description    0\n",
       "dtype: int64"
      ]
     },
     "execution_count": 42,
     "metadata": {},
     "output_type": "execute_result"
    }
   ],
   "source": [
    "data.isnull().sum()"
   ]
  },
  {
   "cell_type": "code",
   "execution_count": 43,
   "id": "29214ace-30a8-4ac6-87c0-192203593823",
   "metadata": {},
   "outputs": [],
   "source": [
    "data.dropna(inplace=True)"
   ]
  },
  {
   "cell_type": "code",
   "execution_count": 44,
   "id": "9719f5ff-be77-42ae-88e6-4715e8a02bbb",
   "metadata": {},
   "outputs": [
    {
     "data": {
      "text/plain": [
       "np.int64(0)"
      ]
     },
     "execution_count": 44,
     "metadata": {},
     "output_type": "execute_result"
    }
   ],
   "source": [
    "data.duplicated().sum()"
   ]
  },
  {
   "cell_type": "code",
   "execution_count": 45,
   "id": "bfee5b6e-1f9a-4b15-9c97-0e94373fdcb5",
   "metadata": {},
   "outputs": [
    {
     "data": {
      "text/html": [
       "<div>\n",
       "<style scoped>\n",
       "    .dataframe tbody tr th:only-of-type {\n",
       "        vertical-align: middle;\n",
       "    }\n",
       "\n",
       "    .dataframe tbody tr th {\n",
       "        vertical-align: top;\n",
       "    }\n",
       "\n",
       "    .dataframe thead th {\n",
       "        text-align: right;\n",
       "    }\n",
       "</style>\n",
       "<table border=\"1\" class=\"dataframe\">\n",
       "  <thead>\n",
       "    <tr style=\"text-align: right;\">\n",
       "      <th></th>\n",
       "      <th>index</th>\n",
       "    </tr>\n",
       "  </thead>\n",
       "  <tbody>\n",
       "    <tr>\n",
       "      <th>count</th>\n",
       "      <td>9720.000000</td>\n",
       "    </tr>\n",
       "    <tr>\n",
       "      <th>mean</th>\n",
       "      <td>4860.500000</td>\n",
       "    </tr>\n",
       "    <tr>\n",
       "      <th>std</th>\n",
       "      <td>2806.066642</td>\n",
       "    </tr>\n",
       "    <tr>\n",
       "      <th>min</th>\n",
       "      <td>1.000000</td>\n",
       "    </tr>\n",
       "    <tr>\n",
       "      <th>25%</th>\n",
       "      <td>2430.750000</td>\n",
       "    </tr>\n",
       "    <tr>\n",
       "      <th>50%</th>\n",
       "      <td>4860.500000</td>\n",
       "    </tr>\n",
       "    <tr>\n",
       "      <th>75%</th>\n",
       "      <td>7290.250000</td>\n",
       "    </tr>\n",
       "    <tr>\n",
       "      <th>max</th>\n",
       "      <td>9720.000000</td>\n",
       "    </tr>\n",
       "  </tbody>\n",
       "</table>\n",
       "</div>"
      ],
      "text/plain": [
       "             index\n",
       "count  9720.000000\n",
       "mean   4860.500000\n",
       "std    2806.066642\n",
       "min       1.000000\n",
       "25%    2430.750000\n",
       "50%    4860.500000\n",
       "75%    7290.250000\n",
       "max    9720.000000"
      ]
     },
     "execution_count": 45,
     "metadata": {},
     "output_type": "execute_result"
    }
   ],
   "source": [
    "data.describe()"
   ]
  },
  {
   "cell_type": "code",
   "execution_count": 46,
   "id": "ca2fd8e1-0a0c-4fb2-9d5c-2ead7b57a3a7",
   "metadata": {},
   "outputs": [
    {
     "name": "stdout",
     "output_type": "stream",
     "text": [
      "<class 'pandas.core.frame.DataFrame'>\n",
      "RangeIndex: 9720 entries, 0 to 9719\n",
      "Data columns (total 4 columns):\n",
      " #   Column       Non-Null Count  Dtype \n",
      "---  ------       --------------  ----- \n",
      " 0   index        9720 non-null   int64 \n",
      " 1   Drug_Name    9720 non-null   object\n",
      " 2   Reason       9720 non-null   object\n",
      " 3   Description  9720 non-null   object\n",
      "dtypes: int64(1), object(3)\n",
      "memory usage: 303.9+ KB\n"
     ]
    }
   ],
   "source": [
    "data.info()"
   ]
  },
  {
   "cell_type": "code",
   "execution_count": 47,
   "id": "9e64a617-a542-4404-98e9-e180738c1b90",
   "metadata": {},
   "outputs": [
    {
     "data": {
      "text/plain": [
       "0                           Mild to moderate acne (spots)\n",
       "1       A RET 0.025% is a prescription medicine that i...\n",
       "2       It is used to treat acne vulgaris in people 12...\n",
       "3       It is used to treat acne vulgaris in people 12...\n",
       "4       treat the most severe form of acne (nodular ac...\n",
       "                              ...                        \n",
       "9715                              used for treating warts\n",
       "9716                        used to soften the skin cells\n",
       "9717                                       used for scars\n",
       "9718                                      used for wounds\n",
       "9719    used to treat and remove raised warts (usually...\n",
       "Name: Description, Length: 9720, dtype: object"
      ]
     },
     "execution_count": 47,
     "metadata": {},
     "output_type": "execute_result"
    }
   ],
   "source": [
    "data['Description']"
   ]
  },
  {
   "cell_type": "code",
   "execution_count": 48,
   "id": "4bfafaf0-48a1-4133-a6e4-fd9abf7e5dd7",
   "metadata": {},
   "outputs": [
    {
     "data": {
      "text/plain": [
       "0                     [Mild, to, moderate, acne, (spots)]\n",
       "1       [A, RET, 0.025%, is, a, prescription, medicine...\n",
       "2       [It, is, used, to, treat, acne, vulgaris, in, ...\n",
       "3       [It, is, used, to, treat, acne, vulgaris, in, ...\n",
       "4       [treat, the, most, severe, form, of, acne, (no...\n",
       "                              ...                        \n",
       "9715                         [used, for, treating, warts]\n",
       "9716                 [used, to, soften, the, skin, cells]\n",
       "9717                                   [used, for, scars]\n",
       "9718                                  [used, for, wounds]\n",
       "9719    [used, to, treat, and, remove, raised, warts, ...\n",
       "Name: Description, Length: 9720, dtype: object"
      ]
     },
     "execution_count": 48,
     "metadata": {},
     "output_type": "execute_result"
    }
   ],
   "source": [
    "data['Description'].apply(lambda x: x.split())"
   ]
  },
  {
   "cell_type": "code",
   "execution_count": 49,
   "id": "13ccdce5-5fba-4593-aa1c-7079538b23c2",
   "metadata": {},
   "outputs": [],
   "source": [
    "data['Description'] = data['Description'].apply(lambda x: x.split())\n",
    "data['Reason'] = data['Reason'].apply(lambda x: x.split())"
   ]
  },
  {
   "cell_type": "code",
   "execution_count": 50,
   "id": "8cac46e0-81bd-40a9-8006-8968bb02a04e",
   "metadata": {},
   "outputs": [
    {
     "data": {
      "text/html": [
       "<div>\n",
       "<style scoped>\n",
       "    .dataframe tbody tr th:only-of-type {\n",
       "        vertical-align: middle;\n",
       "    }\n",
       "\n",
       "    .dataframe tbody tr th {\n",
       "        vertical-align: top;\n",
       "    }\n",
       "\n",
       "    .dataframe thead th {\n",
       "        text-align: right;\n",
       "    }\n",
       "</style>\n",
       "<table border=\"1\" class=\"dataframe\">\n",
       "  <thead>\n",
       "    <tr style=\"text-align: right;\">\n",
       "      <th></th>\n",
       "      <th>index</th>\n",
       "      <th>Drug_Name</th>\n",
       "      <th>Reason</th>\n",
       "      <th>Description</th>\n",
       "    </tr>\n",
       "  </thead>\n",
       "  <tbody>\n",
       "    <tr>\n",
       "      <th>9715</th>\n",
       "      <td>9716</td>\n",
       "      <td>T Muce Ointment 5gm</td>\n",
       "      <td>[Wound]</td>\n",
       "      <td>[used, for, treating, warts]</td>\n",
       "    </tr>\n",
       "    <tr>\n",
       "      <th>9716</th>\n",
       "      <td>9717</td>\n",
       "      <td>Wokadine 10% Solution 100mlWokadine Solution 5...</td>\n",
       "      <td>[Wound]</td>\n",
       "      <td>[used, to, soften, the, skin, cells]</td>\n",
       "    </tr>\n",
       "    <tr>\n",
       "      <th>9717</th>\n",
       "      <td>9718</td>\n",
       "      <td>Wokadine M Onit 10gm</td>\n",
       "      <td>[Wound]</td>\n",
       "      <td>[used, for, scars]</td>\n",
       "    </tr>\n",
       "    <tr>\n",
       "      <th>9718</th>\n",
       "      <td>9719</td>\n",
       "      <td>Wound Fix Solution 100ml</td>\n",
       "      <td>[Wound]</td>\n",
       "      <td>[used, for, wounds]</td>\n",
       "    </tr>\n",
       "    <tr>\n",
       "      <th>9719</th>\n",
       "      <td>9720</td>\n",
       "      <td>Wounsol Ointment 15gm</td>\n",
       "      <td>[Wound]</td>\n",
       "      <td>[used, to, treat, and, remove, raised, warts, ...</td>\n",
       "    </tr>\n",
       "  </tbody>\n",
       "</table>\n",
       "</div>"
      ],
      "text/plain": [
       "      index                                          Drug_Name   Reason  \\\n",
       "9715   9716                                T Muce Ointment 5gm  [Wound]   \n",
       "9716   9717  Wokadine 10% Solution 100mlWokadine Solution 5...  [Wound]   \n",
       "9717   9718                               Wokadine M Onit 10gm  [Wound]   \n",
       "9718   9719                           Wound Fix Solution 100ml  [Wound]   \n",
       "9719   9720                              Wounsol Ointment 15gm  [Wound]   \n",
       "\n",
       "                                            Description  \n",
       "9715                       [used, for, treating, warts]  \n",
       "9716               [used, to, soften, the, skin, cells]  \n",
       "9717                                 [used, for, scars]  \n",
       "9718                                [used, for, wounds]  \n",
       "9719  [used, to, treat, and, remove, raised, warts, ...  "
      ]
     },
     "execution_count": 50,
     "metadata": {},
     "output_type": "execute_result"
    }
   ],
   "source": [
    "data.tail()"
   ]
  },
  {
   "cell_type": "code",
   "execution_count": 51,
   "id": "ec748bbf-d922-495b-b9ec-59ba902e90d4",
   "metadata": {},
   "outputs": [],
   "source": [
    "data['Description'] = data['Description'].apply(lambda x: [i.replace(\" \", \"\") for i in x])"
   ]
  },
  {
   "cell_type": "code",
   "execution_count": 52,
   "id": "75e6ce2a-7c3c-4193-a0f1-11c30e2235d6",
   "metadata": {},
   "outputs": [],
   "source": [
    "data['tags'] = data['Description'] + data['Reason']"
   ]
  },
  {
   "cell_type": "code",
   "execution_count": 53,
   "id": "1ac6a328-f0e7-4635-bf09-91bb3287f3f2",
   "metadata": {},
   "outputs": [
    {
     "data": {
      "text/html": [
       "<div>\n",
       "<style scoped>\n",
       "    .dataframe tbody tr th:only-of-type {\n",
       "        vertical-align: middle;\n",
       "    }\n",
       "\n",
       "    .dataframe tbody tr th {\n",
       "        vertical-align: top;\n",
       "    }\n",
       "\n",
       "    .dataframe thead th {\n",
       "        text-align: right;\n",
       "    }\n",
       "</style>\n",
       "<table border=\"1\" class=\"dataframe\">\n",
       "  <thead>\n",
       "    <tr style=\"text-align: right;\">\n",
       "      <th></th>\n",
       "      <th>index</th>\n",
       "      <th>Drug_Name</th>\n",
       "      <th>Reason</th>\n",
       "      <th>Description</th>\n",
       "      <th>tags</th>\n",
       "    </tr>\n",
       "  </thead>\n",
       "  <tbody>\n",
       "    <tr>\n",
       "      <th>0</th>\n",
       "      <td>1</td>\n",
       "      <td>A CN Gel(Topical) 20gmA CN Soap 75gm</td>\n",
       "      <td>[Acne]</td>\n",
       "      <td>[Mild, to, moderate, acne, (spots)]</td>\n",
       "      <td>[Mild, to, moderate, acne, (spots), Acne]</td>\n",
       "    </tr>\n",
       "    <tr>\n",
       "      <th>1</th>\n",
       "      <td>2</td>\n",
       "      <td>A Ret 0.05% Gel 20gmA Ret 0.1% Gel 20gmA Ret 0...</td>\n",
       "      <td>[Acne]</td>\n",
       "      <td>[A, RET, 0.025%, is, a, prescription, medicine...</td>\n",
       "      <td>[A, RET, 0.025%, is, a, prescription, medicine...</td>\n",
       "    </tr>\n",
       "    <tr>\n",
       "      <th>2</th>\n",
       "      <td>3</td>\n",
       "      <td>ACGEL CL NANO Gel 15gm</td>\n",
       "      <td>[Acne]</td>\n",
       "      <td>[It, is, used, to, treat, acne, vulgaris, in, ...</td>\n",
       "      <td>[It, is, used, to, treat, acne, vulgaris, in, ...</td>\n",
       "    </tr>\n",
       "    <tr>\n",
       "      <th>3</th>\n",
       "      <td>4</td>\n",
       "      <td>ACGEL NANO Gel 15gm</td>\n",
       "      <td>[Acne]</td>\n",
       "      <td>[It, is, used, to, treat, acne, vulgaris, in, ...</td>\n",
       "      <td>[It, is, used, to, treat, acne, vulgaris, in, ...</td>\n",
       "    </tr>\n",
       "    <tr>\n",
       "      <th>4</th>\n",
       "      <td>5</td>\n",
       "      <td>Acleen 1% Lotion 25ml</td>\n",
       "      <td>[Acne]</td>\n",
       "      <td>[treat, the, most, severe, form, of, acne, (no...</td>\n",
       "      <td>[treat, the, most, severe, form, of, acne, (no...</td>\n",
       "    </tr>\n",
       "  </tbody>\n",
       "</table>\n",
       "</div>"
      ],
      "text/plain": [
       "   index                                          Drug_Name  Reason  \\\n",
       "0      1               A CN Gel(Topical) 20gmA CN Soap 75gm  [Acne]   \n",
       "1      2  A Ret 0.05% Gel 20gmA Ret 0.1% Gel 20gmA Ret 0...  [Acne]   \n",
       "2      3                             ACGEL CL NANO Gel 15gm  [Acne]   \n",
       "3      4                                ACGEL NANO Gel 15gm  [Acne]   \n",
       "4      5                              Acleen 1% Lotion 25ml  [Acne]   \n",
       "\n",
       "                                         Description  \\\n",
       "0                [Mild, to, moderate, acne, (spots)]   \n",
       "1  [A, RET, 0.025%, is, a, prescription, medicine...   \n",
       "2  [It, is, used, to, treat, acne, vulgaris, in, ...   \n",
       "3  [It, is, used, to, treat, acne, vulgaris, in, ...   \n",
       "4  [treat, the, most, severe, form, of, acne, (no...   \n",
       "\n",
       "                                                tags  \n",
       "0          [Mild, to, moderate, acne, (spots), Acne]  \n",
       "1  [A, RET, 0.025%, is, a, prescription, medicine...  \n",
       "2  [It, is, used, to, treat, acne, vulgaris, in, ...  \n",
       "3  [It, is, used, to, treat, acne, vulgaris, in, ...  \n",
       "4  [treat, the, most, severe, form, of, acne, (no...  "
      ]
     },
     "execution_count": 53,
     "metadata": {},
     "output_type": "execute_result"
    }
   ],
   "source": [
    "data.head()"
   ]
  },
  {
   "cell_type": "code",
   "execution_count": 54,
   "id": "e72feb61-d444-4a25-be9d-34ff36f6052e",
   "metadata": {},
   "outputs": [],
   "source": [
    "new_data = data[['index', 'Drug_Name', 'tags']]"
   ]
  },
  {
   "cell_type": "code",
   "execution_count": 55,
   "id": "fa44f75b-d8fb-4dd7-ab87-60a59b1f5572",
   "metadata": {},
   "outputs": [
    {
     "data": {
      "text/html": [
       "<div>\n",
       "<style scoped>\n",
       "    .dataframe tbody tr th:only-of-type {\n",
       "        vertical-align: middle;\n",
       "    }\n",
       "\n",
       "    .dataframe tbody tr th {\n",
       "        vertical-align: top;\n",
       "    }\n",
       "\n",
       "    .dataframe thead th {\n",
       "        text-align: right;\n",
       "    }\n",
       "</style>\n",
       "<table border=\"1\" class=\"dataframe\">\n",
       "  <thead>\n",
       "    <tr style=\"text-align: right;\">\n",
       "      <th></th>\n",
       "      <th>index</th>\n",
       "      <th>Drug_Name</th>\n",
       "      <th>tags</th>\n",
       "    </tr>\n",
       "  </thead>\n",
       "  <tbody>\n",
       "    <tr>\n",
       "      <th>0</th>\n",
       "      <td>1</td>\n",
       "      <td>A CN Gel(Topical) 20gmA CN Soap 75gm</td>\n",
       "      <td>[Mild, to, moderate, acne, (spots), Acne]</td>\n",
       "    </tr>\n",
       "    <tr>\n",
       "      <th>1</th>\n",
       "      <td>2</td>\n",
       "      <td>A Ret 0.05% Gel 20gmA Ret 0.1% Gel 20gmA Ret 0...</td>\n",
       "      <td>[A, RET, 0.025%, is, a, prescription, medicine...</td>\n",
       "    </tr>\n",
       "    <tr>\n",
       "      <th>2</th>\n",
       "      <td>3</td>\n",
       "      <td>ACGEL CL NANO Gel 15gm</td>\n",
       "      <td>[It, is, used, to, treat, acne, vulgaris, in, ...</td>\n",
       "    </tr>\n",
       "    <tr>\n",
       "      <th>3</th>\n",
       "      <td>4</td>\n",
       "      <td>ACGEL NANO Gel 15gm</td>\n",
       "      <td>[It, is, used, to, treat, acne, vulgaris, in, ...</td>\n",
       "    </tr>\n",
       "    <tr>\n",
       "      <th>4</th>\n",
       "      <td>5</td>\n",
       "      <td>Acleen 1% Lotion 25ml</td>\n",
       "      <td>[treat, the, most, severe, form, of, acne, (no...</td>\n",
       "    </tr>\n",
       "  </tbody>\n",
       "</table>\n",
       "</div>"
      ],
      "text/plain": [
       "   index                                          Drug_Name  \\\n",
       "0      1               A CN Gel(Topical) 20gmA CN Soap 75gm   \n",
       "1      2  A Ret 0.05% Gel 20gmA Ret 0.1% Gel 20gmA Ret 0...   \n",
       "2      3                             ACGEL CL NANO Gel 15gm   \n",
       "3      4                                ACGEL NANO Gel 15gm   \n",
       "4      5                              Acleen 1% Lotion 25ml   \n",
       "\n",
       "                                                tags  \n",
       "0          [Mild, to, moderate, acne, (spots), Acne]  \n",
       "1  [A, RET, 0.025%, is, a, prescription, medicine...  \n",
       "2  [It, is, used, to, treat, acne, vulgaris, in, ...  \n",
       "3  [It, is, used, to, treat, acne, vulgaris, in, ...  \n",
       "4  [treat, the, most, severe, form, of, acne, (no...  "
      ]
     },
     "execution_count": 55,
     "metadata": {},
     "output_type": "execute_result"
    }
   ],
   "source": [
    "new_data.head()"
   ]
  },
  {
   "cell_type": "code",
   "execution_count": 56,
   "id": "d49fabca-13fa-4b16-885b-0af30784e7cd",
   "metadata": {},
   "outputs": [
    {
     "name": "stderr",
     "output_type": "stream",
     "text": [
      "C:\\Users\\Hp\\AppData\\Local\\Temp\\ipykernel_24540\\2019840365.py:1: SettingWithCopyWarning: \n",
      "A value is trying to be set on a copy of a slice from a DataFrame.\n",
      "Try using .loc[row_indexer,col_indexer] = value instead\n",
      "\n",
      "See the caveats in the documentation: https://pandas.pydata.org/pandas-docs/stable/user_guide/indexing.html#returning-a-view-versus-a-copy\n",
      "  new_data['tags'] = new_data['tags'].apply(lambda x : \" \".join(x))\n"
     ]
    }
   ],
   "source": [
    "new_data['tags'] = new_data['tags'].apply(lambda x : \" \".join(x))"
   ]
  },
  {
   "cell_type": "code",
   "execution_count": 57,
   "id": "df8e3e3c-3af0-48b3-896f-d86c2735b9ea",
   "metadata": {},
   "outputs": [
    {
     "name": "stderr",
     "output_type": "stream",
     "text": [
      "C:\\Users\\Hp\\AppData\\Local\\Temp\\ipykernel_24540\\805274915.py:1: SettingWithCopyWarning: \n",
      "A value is trying to be set on a copy of a slice from a DataFrame.\n",
      "Try using .loc[row_indexer,col_indexer] = value instead\n",
      "\n",
      "See the caveats in the documentation: https://pandas.pydata.org/pandas-docs/stable/user_guide/indexing.html#returning-a-view-versus-a-copy\n",
      "  new_data['tags'] = new_data['tags'].apply(lambda x : x.lower())\n"
     ]
    }
   ],
   "source": [
    "new_data['tags'] = new_data['tags'].apply(lambda x : x.lower())"
   ]
  },
  {
   "cell_type": "code",
   "execution_count": 58,
   "id": "b2faa4f7-bf69-422c-a5e9-0e52fe869904",
   "metadata": {},
   "outputs": [
    {
     "data": {
      "text/html": [
       "<div>\n",
       "<style scoped>\n",
       "    .dataframe tbody tr th:only-of-type {\n",
       "        vertical-align: middle;\n",
       "    }\n",
       "\n",
       "    .dataframe tbody tr th {\n",
       "        vertical-align: top;\n",
       "    }\n",
       "\n",
       "    .dataframe thead th {\n",
       "        text-align: right;\n",
       "    }\n",
       "</style>\n",
       "<table border=\"1\" class=\"dataframe\">\n",
       "  <thead>\n",
       "    <tr style=\"text-align: right;\">\n",
       "      <th></th>\n",
       "      <th>index</th>\n",
       "      <th>Drug_Name</th>\n",
       "      <th>tags</th>\n",
       "    </tr>\n",
       "  </thead>\n",
       "  <tbody>\n",
       "    <tr>\n",
       "      <th>0</th>\n",
       "      <td>1</td>\n",
       "      <td>A CN Gel(Topical) 20gmA CN Soap 75gm</td>\n",
       "      <td>mild to moderate acne (spots) acne</td>\n",
       "    </tr>\n",
       "    <tr>\n",
       "      <th>1</th>\n",
       "      <td>2</td>\n",
       "      <td>A Ret 0.05% Gel 20gmA Ret 0.1% Gel 20gmA Ret 0...</td>\n",
       "      <td>a ret 0.025% is a prescription medicine that i...</td>\n",
       "    </tr>\n",
       "    <tr>\n",
       "      <th>2</th>\n",
       "      <td>3</td>\n",
       "      <td>ACGEL CL NANO Gel 15gm</td>\n",
       "      <td>it is used to treat acne vulgaris in people 12...</td>\n",
       "    </tr>\n",
       "    <tr>\n",
       "      <th>3</th>\n",
       "      <td>4</td>\n",
       "      <td>ACGEL NANO Gel 15gm</td>\n",
       "      <td>it is used to treat acne vulgaris in people 12...</td>\n",
       "    </tr>\n",
       "    <tr>\n",
       "      <th>4</th>\n",
       "      <td>5</td>\n",
       "      <td>Acleen 1% Lotion 25ml</td>\n",
       "      <td>treat the most severe form of acne (nodular ac...</td>\n",
       "    </tr>\n",
       "  </tbody>\n",
       "</table>\n",
       "</div>"
      ],
      "text/plain": [
       "   index                                          Drug_Name  \\\n",
       "0      1               A CN Gel(Topical) 20gmA CN Soap 75gm   \n",
       "1      2  A Ret 0.05% Gel 20gmA Ret 0.1% Gel 20gmA Ret 0...   \n",
       "2      3                             ACGEL CL NANO Gel 15gm   \n",
       "3      4                                ACGEL NANO Gel 15gm   \n",
       "4      5                              Acleen 1% Lotion 25ml   \n",
       "\n",
       "                                                tags  \n",
       "0                 mild to moderate acne (spots) acne  \n",
       "1  a ret 0.025% is a prescription medicine that i...  \n",
       "2  it is used to treat acne vulgaris in people 12...  \n",
       "3  it is used to treat acne vulgaris in people 12...  \n",
       "4  treat the most severe form of acne (nodular ac...  "
      ]
     },
     "execution_count": 58,
     "metadata": {},
     "output_type": "execute_result"
    }
   ],
   "source": [
    "new_data.head()"
   ]
  },
  {
   "cell_type": "code",
   "execution_count": 59,
   "id": "55d5230a-9f78-4ae5-9f03-5f3a80e8bc20",
   "metadata": {},
   "outputs": [],
   "source": [
    "import nltk\n",
    "from nltk.stem.porter import PorterStemmer\n",
    "ps = PorterStemmer()"
   ]
  },
  {
   "cell_type": "code",
   "execution_count": 60,
   "id": "e1f578af-76b4-4ff6-840c-baf7a2b8ebf0",
   "metadata": {},
   "outputs": [],
   "source": [
    "from sklearn.feature_extraction.text import CountVectorizer\n",
    "cv = CountVectorizer(stop_words = \"english\", max_features = 500)"
   ]
  },
  {
   "cell_type": "code",
   "execution_count": 61,
   "id": "34b73213-6c74-4ed4-adc8-8f745289b58d",
   "metadata": {},
   "outputs": [],
   "source": [
    "def stem(text):\n",
    "    y = []\n",
    "    for i in text.split():\n",
    "        y.append(ps.stem(i))\n",
    "    return \" \".join(y)\n",
    "        "
   ]
  },
  {
   "cell_type": "code",
   "execution_count": 62,
   "id": "925d32dc-a967-4909-8238-0e85e6ffcad1",
   "metadata": {},
   "outputs": [
    {
     "data": {
      "text/plain": [
       "'you are so so beauti'"
      ]
     },
     "execution_count": 62,
     "metadata": {},
     "output_type": "execute_result"
    }
   ],
   "source": [
    "stem(\"You are so so beautiful\") "
   ]
  },
  {
   "cell_type": "code",
   "execution_count": 63,
   "id": "98897d1f-9ee6-41e2-a88b-8d0c8069db0d",
   "metadata": {},
   "outputs": [
    {
     "name": "stderr",
     "output_type": "stream",
     "text": [
      "C:\\Users\\Hp\\AppData\\Local\\Temp\\ipykernel_24540\\1214595124.py:1: SettingWithCopyWarning: \n",
      "A value is trying to be set on a copy of a slice from a DataFrame.\n",
      "Try using .loc[row_indexer,col_indexer] = value instead\n",
      "\n",
      "See the caveats in the documentation: https://pandas.pydata.org/pandas-docs/stable/user_guide/indexing.html#returning-a-view-versus-a-copy\n",
      "  new_data['tags'] = new_data['tags'].apply(stem)\n"
     ]
    }
   ],
   "source": [
    "new_data['tags'] = new_data['tags'].apply(stem)"
   ]
  },
  {
   "cell_type": "code",
   "execution_count": 64,
   "id": "e44f8c4b-02e1-4815-9859-7d8ad206cf3b",
   "metadata": {
    "scrolled": true
   },
   "outputs": [
    {
     "data": {
      "text/html": [
       "<div>\n",
       "<style scoped>\n",
       "    .dataframe tbody tr th:only-of-type {\n",
       "        vertical-align: middle;\n",
       "    }\n",
       "\n",
       "    .dataframe tbody tr th {\n",
       "        vertical-align: top;\n",
       "    }\n",
       "\n",
       "    .dataframe thead th {\n",
       "        text-align: right;\n",
       "    }\n",
       "</style>\n",
       "<table border=\"1\" class=\"dataframe\">\n",
       "  <thead>\n",
       "    <tr style=\"text-align: right;\">\n",
       "      <th></th>\n",
       "      <th>index</th>\n",
       "      <th>Drug_Name</th>\n",
       "      <th>tags</th>\n",
       "    </tr>\n",
       "  </thead>\n",
       "  <tbody>\n",
       "    <tr>\n",
       "      <th>0</th>\n",
       "      <td>1</td>\n",
       "      <td>A CN Gel(Topical) 20gmA CN Soap 75gm</td>\n",
       "      <td>mild to moder acn (spots) acn</td>\n",
       "    </tr>\n",
       "    <tr>\n",
       "      <th>1</th>\n",
       "      <td>2</td>\n",
       "      <td>A Ret 0.05% Gel 20gmA Ret 0.1% Gel 20gmA Ret 0...</td>\n",
       "      <td>a ret 0.025% is a prescript medicin that is us...</td>\n",
       "    </tr>\n",
       "    <tr>\n",
       "      <th>2</th>\n",
       "      <td>3</td>\n",
       "      <td>ACGEL CL NANO Gel 15gm</td>\n",
       "      <td>it is use to treat acn vulgari in peopl 12 yea...</td>\n",
       "    </tr>\n",
       "    <tr>\n",
       "      <th>3</th>\n",
       "      <td>4</td>\n",
       "      <td>ACGEL NANO Gel 15gm</td>\n",
       "      <td>it is use to treat acn vulgari in peopl 12 yea...</td>\n",
       "    </tr>\n",
       "    <tr>\n",
       "      <th>4</th>\n",
       "      <td>5</td>\n",
       "      <td>Acleen 1% Lotion 25ml</td>\n",
       "      <td>treat the most sever form of acn (nodular acne...</td>\n",
       "    </tr>\n",
       "  </tbody>\n",
       "</table>\n",
       "</div>"
      ],
      "text/plain": [
       "   index                                          Drug_Name  \\\n",
       "0      1               A CN Gel(Topical) 20gmA CN Soap 75gm   \n",
       "1      2  A Ret 0.05% Gel 20gmA Ret 0.1% Gel 20gmA Ret 0...   \n",
       "2      3                             ACGEL CL NANO Gel 15gm   \n",
       "3      4                                ACGEL NANO Gel 15gm   \n",
       "4      5                              Acleen 1% Lotion 25ml   \n",
       "\n",
       "                                                tags  \n",
       "0                      mild to moder acn (spots) acn  \n",
       "1  a ret 0.025% is a prescript medicin that is us...  \n",
       "2  it is use to treat acn vulgari in peopl 12 yea...  \n",
       "3  it is use to treat acn vulgari in peopl 12 yea...  \n",
       "4  treat the most sever form of acn (nodular acne...  "
      ]
     },
     "execution_count": 64,
     "metadata": {},
     "output_type": "execute_result"
    }
   ],
   "source": [
    "new_data.head()"
   ]
  },
  {
   "cell_type": "code",
   "execution_count": 65,
   "id": "1ebfd5e7-e020-468d-83b4-769c6a51fc1d",
   "metadata": {
    "scrolled": true
   },
   "outputs": [],
   "source": [
    "vectors = cv.fit_transform(new_data['tags']).toarray()"
   ]
  },
  {
   "cell_type": "code",
   "execution_count": 66,
   "id": "7e851e65-0240-45a9-9679-00a394b813a0",
   "metadata": {},
   "outputs": [
    {
     "data": {
      "text/plain": [
       "(9720, 500)"
      ]
     },
     "execution_count": 66,
     "metadata": {},
     "output_type": "execute_result"
    }
   ],
   "source": [
    "vectors.shape"
   ]
  },
  {
   "cell_type": "code",
   "execution_count": 67,
   "id": "259f8291-1384-4243-b147-7e3c61cdda6a",
   "metadata": {
    "scrolled": true
   },
   "outputs": [
    {
     "data": {
      "text/plain": [
       "array(['12', '16', 'abdomin', 'abl', 'acid', 'acn', 'acne', 'adequ',\n",
       "       'adult', 'affect', 'ag', 'age', 'allergen', 'allergi', 'allow',\n",
       "       'alon', 'alzheim', 'alzheimer', 'alzheimerâ', 'amoebiasi',\n",
       "       'anaemia', 'anal', 'angina', 'angl', 'anorexia', 'anti', 'anxieti',\n",
       "       'anxiou', 'appetit', 'appetite', 'appropri', 'area',\n",
       "       'arrhythmiasi', 'arteri', 'arthralgia', 'arthriti', 'associ',\n",
       "       'atherothrombot', 'atop', 'atrial', 'attack', 'awak', 'backache',\n",
       "       'bacteri', 'bacteria', 'balanitis', 'becom', 'behaviour',\n",
       "       'beliefs', 'beta', 'biliari', 'blackheads', 'bleed', 'block',\n",
       "       'blood', 'bodi', 'bon', 'bone', 'bowel', 'bronchiti', 'bursitis',\n",
       "       'calm', 'cancer', 'candid', 'candidiasis', 'canâ', 'carbohydr',\n",
       "       'care', 'carrier', 'caus', 'cell', 'certain', 'chanc',\n",
       "       'characteris', 'chemic', 'chemotherapi', 'chest', 'childhood',\n",
       "       'children', 'chronic', 'cleanser', 'clot', 'cold', 'colic',\n",
       "       'common', 'condit', 'conditions', 'congestion', 'conjunct',\n",
       "       'consid', 'constip', 'continu', 'contracept', 'control',\n",
       "       'contusion', 'convent', 'convulsion', 'corpori', 'corticosteroid',\n",
       "       'cough', 'cramp', 'cruri', 'damag', 'dandruff', 'death', 'decreas',\n",
       "       'defici', 'degrad', 'degre', 'dementia', 'dental', 'depress',\n",
       "       'depressed', 'dermat', 'diabet', 'diagnost', 'diarrhea',\n",
       "       'diarrhoea', 'diet', 'differ', 'difficult', 'digest',\n",
       "       'discoloured', 'diseas', 'disord', 'disorder', 'disorders',\n",
       "       'displac', 'distens', 'doctor', 'doe', 'drain', 'dri', 'drop',\n",
       "       'drowsi', 'dure', 'dysmenorrhea', 'ear', 'ears', 'eczema', 'elbow',\n",
       "       'element', 'emot', 'encephalopathi', 'endometriosi', 'energi',\n",
       "       'energy', 'enzym', 'enzyme', 'epicondylitis', 'episod', 'essenti',\n",
       "       'event', 'excess', 'exercis', 'exocrin', 'extern', 'eye', 'eyes',\n",
       "       'failur', 'failure', 'fast', 'fatigue', 'febril', 'feed', 'feel',\n",
       "       'feet', 'fever', 'fibril', 'fine', 'fissur', 'flat', 'flatulence',\n",
       "       'flow', 'flutter', 'food', 'form', 'format', 'free', 'friction',\n",
       "       'function', 'fungal', 'fungi', 'fungu', 'gener', 'genit', 'gland',\n",
       "       'glaucoma', 'gonorrhoea', 'good', 'gout', 'gradual', 'growth',\n",
       "       'guilty', 'ha', 'haematopoiesi', 'haemorrhoid',\n",
       "       'haemorrhoidectomi', 'haemorrhoids', 'hair', 'hallucinations',\n",
       "       'hands', 'head', 'headach', 'headache', 'heal', 'hearing', 'heart',\n",
       "       'heartbeat', 'help', 'hepat', 'herp', 'high', 'hiv', 'hormon',\n",
       "       'hospit', 'human', 'hygien', 'hyperpigment', 'hypertens',\n",
       "       'hypertension', 'hyperthyroid', 'hypertrophi', 'hypnosi',\n",
       "       'hypothyroid', 'immun', 'immunodefici', 'improv', 'includ',\n",
       "       'incoher', 'increas', 'indic', 'infect', 'infection', 'infections',\n",
       "       'inflamm', 'inguinalis', 'inhal', 'injuri', 'insid', 'insomnia',\n",
       "       'insufficiencyâ', 'intens', 'intern', 'interrupt', 'intestin',\n",
       "       'intestinal', 'intoler', 'involuntari', 'iron', 'irrit', 'itch',\n",
       "       'jock', 'joint', 'kidney', 'knees', 'known', 'lack', 'lactat',\n",
       "       'lead', 'left', 'level', 'ligaments', 'line', 'lip', 'liquid',\n",
       "       'long', 'lose', 'loss', 'lower', 'lowerâ', 'lvh', 'major', 'make',\n",
       "       'malari', 'malaria', 'malignancies', 'manuum', 'marrow', 'medic',\n",
       "       'melasma', 'mellitu', 'mening', 'migrain', 'migraine', 'mild',\n",
       "       'milk', 'miner', 'minor', 'mistaken', 'moder', 'moistur',\n",
       "       'movement', 'muscl', 'muscular', 'musculoskelet', 'myalgia',\n",
       "       'myeloid', 'narrow', 'nasal', 'need', 'nephropathy', 'nervosa',\n",
       "       'nervousness', 'neuralgia', 'nodular', 'non', 'nose', 'ocular',\n",
       "       'ofâ', 'oili', 'older', 'onli', 'op', 'open', 'oper', 'oral',\n",
       "       'origin', 'osteoporosi', 'pah', 'pain', 'pancrea', 'parkinson',\n",
       "       'parkinsonâ', 'patch', 'patient', 'patientsâ', 'pectori',\n",
       "       'pectoris', 'penil', 'peopl', 'physic', 'pimpl', 'pityriasi',\n",
       "       'post', 'pre', 'prematur', 'preoper', 'prescrib', 'pressur',\n",
       "       'prevent', 'prexia', 'primari', 'prinzmet', 'problem', 'procedur',\n",
       "       'proctiti', 'produc', 'product', 'progress', 'prolactin',\n",
       "       'properti', 'provid', 'psychosi', 'psychosomat', 'pulmonari',\n",
       "       'pyrexia', 'radiculitis', 'rais', 'rarer', 'rash', 'react',\n",
       "       'reaction', 'receiv', 'reduc', 'reduct', 'relat', 'relief',\n",
       "       'reliev', 'reliv', 'remov', 'renal', 'repair', 'reproduct',\n",
       "       'respiratori', 'respons', 'rheumat', 'ringworm', 'scabi', 'scali',\n",
       "       'scalp', 'scar', 'schizophrenia', 'sedat', 'sens', 'sever',\n",
       "       'short', 'sickness', 'simplex', 'sinusitis', 'skin', 'skinâ',\n",
       "       'sleep', 'slow', 'small', 'smoke', 'soar', 'soft', 'soften',\n",
       "       'soothen', 'sore', 'spasmod', 'speech', 'spots', 'sprain',\n",
       "       'starch', 'start', 'state', 'strains', 'stroke', 'structur',\n",
       "       'sugar', 'supplement', 'surgeri', 'surgeryâ', 'surgic',\n",
       "       'suspiciousness', 'sweat', 'symptom', 'symptomat', 'symptoms',\n",
       "       'syndrom', 'synovitis', 'syphilis', 'tachycardia', 'tendonitis',\n",
       "       'tens', 'term', 'therapi', 'therebi', 'thi', 'thing', 'throat',\n",
       "       'thrombolysi', 'thrush', 'thyroid', 'thyroxin', 'time', 'tinea',\n",
       "       'tissu', 'tissues', 'tone', 'tonsil', 'tonsilitis',\n",
       "       'tonsillectomi', 'toothach', 'topic', 'trace', 'tract', 'transmit',\n",
       "       'trauma', 'traumat', 'travel', 'treat', 'treatment', 'treatsâ',\n",
       "       'treatâ', 'type', 'unabl', 'uncompl', 'uneven', 'unusu', 'upper',\n",
       "       'urate', 'uretericâ', 'uric', 'urinaryâ', 'use', 'usual', 'vaccin',\n",
       "       'vagin', 'variant', 'varieti', 'ventricular', 'verruca',\n",
       "       'versicolor', 'vertigo', 'vessel', 'viral', 'viru', 'vitamin',\n",
       "       'vitamins', 'vomit', 'vulgari', 'vulgarisâ', 'wart', 'weight',\n",
       "       'wet', 'whilst', 'white', 'widen', 'withdrawn', 'womb', 'women',\n",
       "       'work', 'worsen', 'wound', 'wrinkl', 'year', 'œpancreat'],\n",
       "      dtype=object)"
      ]
     },
     "execution_count": 67,
     "metadata": {},
     "output_type": "execute_result"
    }
   ],
   "source": [
    "cv.get_feature_names_out()"
   ]
  },
  {
   "cell_type": "code",
   "execution_count": 68,
   "id": "9348b92a-4744-4563-a145-a0d5cd11dfec",
   "metadata": {},
   "outputs": [],
   "source": [
    "from sklearn.metrics.pairwise import cosine_similarity"
   ]
  },
  {
   "cell_type": "code",
   "execution_count": 69,
   "id": "147780d4-563d-47ac-8821-fb748f3e7d65",
   "metadata": {},
   "outputs": [],
   "source": [
    "similarity = cosine_similarity(vectors)"
   ]
  },
  {
   "cell_type": "code",
   "execution_count": 70,
   "id": "21af48fa-fbb4-40f7-bec1-b3009a230671",
   "metadata": {},
   "outputs": [
    {
     "data": {
      "text/plain": [
       "array([0.3380617 , 1.        , 0.34426519, ..., 0.25819889, 0.2       ,\n",
       "       0.11547005])"
      ]
     },
     "execution_count": 70,
     "metadata": {},
     "output_type": "execute_result"
    }
   ],
   "source": [
    "similarity[1]"
   ]
  },
  {
   "cell_type": "code",
   "execution_count": 71,
   "id": "a60a17d6-4095-4493-be9c-9991833129d4",
   "metadata": {},
   "outputs": [],
   "source": [
    "def recommendation(medicine):\n",
    "    medicine_index = new_data[new_data['Drug_Name'] == medicine].index[0]\n",
    "    distance = similarity[medicine_index]\n",
    "    medicine_list = sorted(list(enumerate(distance)), reverse = True, key = lambda x : x[1])[1:6]\n",
    "    for i in medicine_list:\n",
    "        print(new_data.iloc[i[0]].Drug_Name)"
   ]
  },
  {
   "cell_type": "code",
   "execution_count": 72,
   "id": "ec64947e-762e-42ad-85eb-fecca97d22bd",
   "metadata": {},
   "outputs": [
    {
     "name": "stdout",
     "output_type": "stream",
     "text": [
      "ACGEL NANO Gel 15gm\n",
      "Acnehit Gel 15gm\n",
      "Acnelak Soap 75gm\n",
      "Acnetor AD 1% Ointment 15gm\n",
      "Acnetor AD Cream 15Acnetor AD Gel 15gm\n"
     ]
    }
   ],
   "source": [
    "recommendation(\"ACGEL CL NANO Gel 15gm\")"
   ]
  },
  {
   "cell_type": "code",
   "execution_count": 73,
   "id": "ee864396-e4ab-4251-8961-f21b271e6601",
   "metadata": {},
   "outputs": [],
   "source": [
    "import pickle\n",
    "pickle.dump(new_data.to_dict(), open(\"medicine_dict.pkl\", \"wb\"))\n",
    "pickle.dump(similarity, open(\"similarity.pkl\", \"wb\"))"
   ]
  },
  {
   "cell_type": "code",
   "execution_count": 74,
   "id": "5dfc1e85-2be1-4203-b729-2a918ea758c2",
   "metadata": {},
   "outputs": [
    {
     "name": "stdout",
     "output_type": "stream",
     "text": [
      "C:\\Users\\Hp\\Desktop\\Medicine Recommendation System\n"
     ]
    }
   ],
   "source": [
    "import os\n",
    "print(os.getcwd())\n"
   ]
  },
  {
   "cell_type": "code",
   "execution_count": 1,
   "id": "44634ab3-a274-4b34-9ca0-056fa45d565d",
   "metadata": {},
   "outputs": [
    {
     "name": "stdout",
     "output_type": "stream",
     "text": [
      "   index                                          Drug_Name Reason  \\\n",
      "0      1               A CN Gel(Topical) 20gmA CN Soap 75gm   Acne   \n",
      "1      2  A Ret 0.05% Gel 20gmA Ret 0.1% Gel 20gmA Ret 0...   Acne   \n",
      "2      3                             ACGEL CL NANO Gel 15gm   Acne   \n",
      "3      4                                ACGEL NANO Gel 15gm   Acne   \n",
      "4      5                              Acleen 1% Lotion 25ml   Acne   \n",
      "\n",
      "                                         Description  \n",
      "0                      Mild to moderate acne (spots)  \n",
      "1  A RET 0.025% is a prescription medicine that i...  \n",
      "2  It is used to treat acne vulgaris in people 12...  \n",
      "3  It is used to treat acne vulgaris in people 12...  \n",
      "4  treat the most severe form of acne (nodular ac...  \n"
     ]
    }
   ],
   "source": [
    "import pandas as pd\n",
    "\n",
    "# Citește fișierul existent\n",
    "df = pd.read_csv(\"medicine.csv\")\n",
    "\n",
    "# Afișează primele 5 rânduri pentru verificare\n",
    "print(df.head())\n"
   ]
  },
  {
   "cell_type": "code",
   "execution_count": 2,
   "id": "17648421-833e-4630-b9b7-e59ce7607f14",
   "metadata": {},
   "outputs": [
    {
     "name": "stdout",
     "output_type": "stream",
     "text": [
      "   index                                          Drug_Name Reason  \\\n",
      "0      1               A CN Gel(Topical) 20gmA CN Soap 75gm   Acne   \n",
      "1      2  A Ret 0.05% Gel 20gmA Ret 0.1% Gel 20gmA Ret 0...   Acne   \n",
      "2      3                             ACGEL CL NANO Gel 15gm   Acne   \n",
      "3      4                                ACGEL NANO Gel 15gm   Acne   \n",
      "4      5                              Acleen 1% Lotion 25ml   Acne   \n",
      "\n",
      "                                         Description  \\\n",
      "0                      Mild to moderate acne (spots)   \n",
      "1  A RET 0.025% is a prescription medicine that i...   \n",
      "2  It is used to treat acne vulgaris in people 12...   \n",
      "3  It is used to treat acne vulgaris in people 12...   \n",
      "4  treat the most severe form of acne (nodular ac...   \n",
      "\n",
      "                                      Interactions  \n",
      "0         Nu combina cu medicamente anticoagulante  \n",
      "1                       Evită combinarea cu alcool  \n",
      "2  Nu administra împreună cu antibiotice specifice  \n",
      "3         Poate interacționa cu suplimente de fier  \n",
      "4                    Nu combina cu alte analgezice  \n"
     ]
    }
   ],
   "source": [
    "# Exemplu de interacțiuni, poți modifica după necesități\n",
    "interactions = [\n",
    "    \"Nu combina cu medicamente anticoagulante\",\n",
    "    \"Evită combinarea cu alcool\",\n",
    "    \"Nu administra împreună cu antibiotice specifice\",\n",
    "    \"Poate interacționa cu suplimente de fier\",\n",
    "    \"Nu combina cu alte analgezice\"\n",
    "]\n",
    "\n",
    "# Adaugă interacțiunile la fiecare medicament\n",
    "df['Interactions'] = interactions * (len(df) // len(interactions)) + interactions[:len(df) % len(interactions)]\n",
    "\n",
    "# Verifică rezultatul\n",
    "print(df.head())\n"
   ]
  },
  {
   "cell_type": "code",
   "execution_count": 3,
   "id": "69979780-fe74-4d82-8dc9-0097942bc16f",
   "metadata": {},
   "outputs": [
    {
     "name": "stdout",
     "output_type": "stream",
     "text": [
      "Fișierul a fost salvat cu succes!\n"
     ]
    }
   ],
   "source": [
    "# Salvează fișierul modificat\n",
    "df.to_csv(\"medicine_with_interactions.csv\", index=False)\n",
    "\n",
    "print(\"Fișierul a fost salvat cu succes!\")\n"
   ]
  },
  {
   "cell_type": "code",
   "execution_count": 4,
   "id": "39c7f4da-6ab5-4127-8887-4a52c11be0e6",
   "metadata": {},
   "outputs": [
    {
     "name": "stdout",
     "output_type": "stream",
     "text": [
      "   index                                          Drug_Name Reason  \\\n",
      "0      1               A CN Gel(Topical) 20gmA CN Soap 75gm   Acne   \n",
      "1      2  A Ret 0.05% Gel 20gmA Ret 0.1% Gel 20gmA Ret 0...   Acne   \n",
      "2      3                             ACGEL CL NANO Gel 15gm   Acne   \n",
      "3      4                                ACGEL NANO Gel 15gm   Acne   \n",
      "4      5                              Acleen 1% Lotion 25ml   Acne   \n",
      "\n",
      "                                         Description           Interactions  \n",
      "0                      Mild to moderate acne (spots)  No known interactions  \n",
      "1  A RET 0.025% is a prescription medicine that i...  No known interactions  \n",
      "2  It is used to treat acne vulgaris in people 12...  No known interactions  \n",
      "3  It is used to treat acne vulgaris in people 12...  No known interactions  \n",
      "4  treat the most severe form of acne (nodular ac...  No known interactions  \n"
     ]
    }
   ],
   "source": [
    "# Categorii de medicamente și interacțiuni personalizate\n",
    "categories_interactions = {\n",
    "    \"Antibiotics\": [\n",
    "        \"Do not combine with alcohol\",\n",
    "        \"Avoid concurrent use with antacids\",\n",
    "        \"May interact with oral contraceptives\",\n",
    "        \"Risk of tendon rupture when used with corticosteroids\",\n",
    "        \"Avoid combining with dairy products for better absorption\"\n",
    "    ],\n",
    "    \"Pain Relievers\": [\n",
    "        \"Do not combine with other analgesics\",\n",
    "        \"May increase the risk of gastrointestinal bleeding with NSAIDs\",\n",
    "        \"Interaction possible with blood-thinning medications\",\n",
    "        \"Avoid use with alcohol to prevent liver damage\",\n",
    "        \"May interact with sedatives or tranquilizers\"\n",
    "    ],\n",
    "    \"Antidepressants\": [\n",
    "        \"Risk of serotonin syndrome if combined with MAO inhibitors\",\n",
    "        \"Avoid combining with St. John's Wort\",\n",
    "        \"May interact with blood pressure medications\",\n",
    "        \"Do not use with alcohol to prevent drowsiness\",\n",
    "        \"May interfere with certain anti-inflammatory drugs\"\n",
    "    ],\n",
    "    \"Antihistamines\": [\n",
    "        \"Risk of severe drowsiness if used with sedatives\",\n",
    "        \"Do not combine with alcohol\",\n",
    "        \"May interact with over-the-counter cold remedies\",\n",
    "        \"Avoid concurrent use with antidepressants\",\n",
    "        \"May interfere with heart rhythm medications\"\n",
    "    ],\n",
    "    \"Cholesterol-Lowering Drugs\": [\n",
    "        \"Avoid combining with grapefruit juice\",\n",
    "        \"Interaction possible with anticoagulants\",\n",
    "        \"May increase the risk of liver damage if combined with alcohol\",\n",
    "        \"Do not combine with certain antibiotics\",\n",
    "        \"May interact with medications for high blood pressure\"\n",
    "    ],\n",
    "    \"Diabetes Medications\": [\n",
    "        \"May interact with corticosteroids\",\n",
    "        \"Avoid concurrent use with herbal supplements like St. John's Wort\",\n",
    "        \"Do not combine with alcohol to prevent low blood sugar\",\n",
    "        \"May interfere with blood pressure medications\",\n",
    "        \"Risk of kidney toxicity if combined with diuretics\"\n",
    "    ]\n",
    "}\n",
    "\n",
    "# Adaugă interacțiuni pe baza categoriei de medicamente\n",
    "import random\n",
    "\n",
    "def assign_interactions(medicine_name):\n",
    "    category = None\n",
    "    # Alege o categorie bazată pe cuvinte cheie în numele medicamentului\n",
    "    if \"antibiotic\" in medicine_name.lower():\n",
    "        category = \"Antibiotics\"\n",
    "    elif \"pain\" in medicine_name.lower() or \"relief\" in medicine_name.lower():\n",
    "        category = \"Pain Relievers\"\n",
    "    elif \"antidepressant\" in medicine_name.lower():\n",
    "        category = \"Antidepressants\"\n",
    "    elif \"antihistamine\" in medicine_name.lower():\n",
    "        category = \"Antihistamines\"\n",
    "    elif \"cholesterol\" in medicine_name.lower():\n",
    "        category = \"Cholesterol-Lowering Drugs\"\n",
    "    elif \"diabetes\" in medicine_name.lower():\n",
    "        category = \"Diabetes Medications\"\n",
    "    \n",
    "    # Atribuie interacțiuni din categoria selectată\n",
    "    if category and category in categories_interactions:\n",
    "        return random.choice(categories_interactions[category])\n",
    "    else:\n",
    "        return \"No known interactions\"  # Default, dacă nu se potrivește categoria\n",
    "\n",
    "# Aplică funcția fiecărui medicament\n",
    "df['Interactions'] = df['Drug_Name'].apply(assign_interactions)\n",
    "\n",
    "# Verifică rezultatul\n",
    "print(df.head())\n",
    "\n",
    "\n"
   ]
  },
  {
   "cell_type": "code",
   "execution_count": 5,
   "id": "8fcf4ba6-fddd-4b00-a0fc-f01e3f2dda20",
   "metadata": {},
   "outputs": [],
   "source": [
    "# Salvează datasetul actualizat\n",
    "df.to_csv('medicine_with_personalized_interactions.csv', index=False)"
   ]
  },
  {
   "cell_type": "code",
   "execution_count": null,
   "id": "f59178be-811e-4a92-a8e0-ac6721d4ecad",
   "metadata": {},
   "outputs": [],
   "source": []
  }
 ],
 "metadata": {
  "kernelspec": {
   "display_name": "Python 3 (ipykernel)",
   "language": "python",
   "name": "python3"
  },
  "language_info": {
   "codemirror_mode": {
    "name": "ipython",
    "version": 3
   },
   "file_extension": ".py",
   "mimetype": "text/x-python",
   "name": "python",
   "nbconvert_exporter": "python",
   "pygments_lexer": "ipython3",
   "version": "3.13.0"
  }
 },
 "nbformat": 4,
 "nbformat_minor": 5
}
